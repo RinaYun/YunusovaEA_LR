{
  "nbformat": 4,
  "nbformat_minor": 0,
  "metadata": {
    "colab": {
      "provenance": []
    },
    "kernelspec": {
      "name": "python3",
      "display_name": "Python 3"
    },
    "language_info": {
      "name": "python"
    }
  },
  "cells": [
    {
      "cell_type": "code",
      "source": [
        "import numpy as np\n",
        "import matplotlib.pyplot as plt\n",
        "from sklearn.model_selection import train_test_split\n",
        "from sklearn.linear_model import LinearRegression"
      ],
      "metadata": {
        "id": "Kd7gU9lX6iw0"
      },
      "execution_count": null,
      "outputs": []
    },
    {
      "cell_type": "markdown",
      "source": [
        "# Линейная регрессия: введение\n",
        "\n",
        "Линейная регрессия — один из самых простых и базовых алгоритмов машинного обучения.  \n",
        "Её цель — научиться предсказывать числовое значение целевой переменной $y$ по набору признаков $X$.\n",
        "\n",
        "---\n",
        "\n",
        "## Математическая модель\n",
        "\n",
        "Мы предполагаем, что связь между признаками и целевой переменной **линейная**:\n",
        "\n",
        "$$\n",
        "\\hat{y} = w_1 x_1 + w_2 x_2 + \\dots + w_p x_p + b = Xw + b\n",
        "$$\n",
        "\n",
        "- $X$ — матрица признаков (размер $n \\times p$)  \n",
        "- $w$ — вектор весов (коэффициентов модели)  \n",
        "- $b$ — смещение (intercept)  \n",
        "- $\\hat{y}$ — предсказанное значение  \n",
        "\n",
        "---\n",
        "\n",
        "## Критерий качества (функция потерь)\n",
        "\n",
        "Мы хотим, чтобы предсказания $\\hat{y}$ были как можно ближе к реальным значениям $y$.  \n",
        "Для этого минимизируем **среднеквадратичную ошибку (MSE):**\n",
        "\n",
        "$$\n",
        "L(w, b) = \\frac{1}{n}\\sum_{i=1}^{n} (y_i - \\hat{y}_i)^2\n",
        "$$\n",
        "\n",
        "---\n",
        "\n",
        "## Обучение (градиентный спуск)\n",
        "\n",
        "1. Инициализируем веса $w, b$ (например, нулями).  \n",
        "2. Считаем предсказания $\\hat{y}$.  \n",
        "3. Вычисляем функцию потерь $L$.  \n",
        "4. Находим градиенты по $w, b$.  \n",
        "5. Обновляем параметры:  \n",
        "\n",
        "$$\n",
        "w \\leftarrow w - \\eta \\frac{\\partial L}{\\partial w}, \\quad\n",
        "b \\leftarrow b - \\eta \\frac{\\partial L}{\\partial b}\n",
        "$$\n",
        "\n",
        "где $\\eta$ — скорость обучения (learning rate).  \n",
        "\n",
        "6. Повторяем шаги, пока ошибка не станет достаточно маленькой.  \n",
        "\n",
        "---\n",
        "\n",
        "## Применения\n",
        "\n",
        "- Прогнозирование цен (недвижимость, автомобили, товары).  \n",
        "- Оценка зависимости «фактор → результат» (например, влияние рекламы на продажи).  \n",
        "- Базовый «ориентир» для более сложных моделей.  \n",
        "\n",
        "---\n",
        "\n",
        "📌 В этом ноутбуке мы запрограммируем линейную регрессию с нуля, визуализируем процесс обучения и сравним результат со `sklearn`.\n",
        "\n"
      ],
      "metadata": {
        "id": "qp71VOxP3ilW"
      }
    },
    {
      "cell_type": "markdown",
      "source": [
        "# **БОНУС** Производные и градиентный спуск (линейная регрессия)\n"
      ],
      "metadata": {
        "id": "9oCm71TB4ysu"
      }
    },
    {
      "cell_type": "markdown",
      "source": [
        "## Напоминание правил дифференцирования\n",
        "- Производная квадрата:  \n",
        "  $\\frac{d}{dz}(z^2) = 2z$  \n",
        "- Производная суммы:  \n",
        "  $\\frac{d}{dz}(f(z)+g(z)) = f'(z) + g'(z)$  \n",
        "- Производная сложной функции (правило цепочки):  \n",
        "  $\\frac{d}{dz} f(g(z)) = f'(g(z)) \\cdot g'(z)$  \n",
        "\n",
        "---\n",
        "\n",
        "## Модель и функция потерь\n",
        "Модель:\n",
        "$$\n",
        "\\hat{y}_i = x_i^T w + b\n",
        "$$\n",
        "\n",
        "Функция потерь (MSE):\n",
        "$$\n",
        "L(w, b) = \\frac{1}{n}\\sum_{i=1}^n (y_i - \\hat{y}_i)^2\n",
        "$$\n",
        "\n",
        "---\n",
        "\n",
        "## Производная по весу $w_j$\n",
        "Берём одно слагаемое:\n",
        "$$\n",
        "(y_i - (x_i^T w + b))^2\n",
        "$$\n",
        "\n",
        "По правилу цепочки:\n",
        "$$\n",
        "\\frac{\\partial}{\\partial w_j} (y_i - (x_i^T w + b))^2\n",
        "= 2 (y_i - \\hat{y}_i) \\cdot \\frac{\\partial}{\\partial w_j}(y_i - \\hat{y}_i)\n",
        "$$\n",
        "\n",
        "А:\n",
        "$$\n",
        "\\frac{\\partial}{\\partial w_j}(y_i - (x_i^T w + b)) = -x_{ij}\n",
        "$$\n",
        "\n",
        "Итого:\n",
        "$$\n",
        "\\frac{\\partial}{\\partial w_j} (y_i - \\hat{y}_i)^2 = -2 (y_i - \\hat{y}_i) \\cdot x_{ij}\n",
        "$$\n",
        "\n",
        "После суммирования по $i$ и деления на $n$:\n",
        "$$\n",
        "\\frac{\\partial L}{\\partial w_j} = -\\frac{2}{n} \\sum_{i=1}^n (y_i - \\hat{y}_i) x_{ij}\n",
        "$$\n",
        "\n",
        "В матричной записи:\n",
        "$$\n",
        "\\nabla_w L = -\\frac{2}{n} X^T (y - \\hat{y})\n",
        "$$\n",
        "\n",
        "---\n",
        "\n",
        "## Производная по смещению $b$\n",
        "По аналогии:\n",
        "$$\n",
        "\\frac{\\partial L}{\\partial b} = -\\frac{2}{n} \\sum_{i=1}^n (y_i - \\hat{y}_i)\n",
        "$$\n",
        "\n",
        "---\n",
        "\n",
        "## Градиентный спуск\n",
        "**Определение:**  \n",
        "Градиентный спуск — это итеративный метод минимизации функции потерь.  \n",
        "Мы двигаем параметры в направлении, противоположном градиенту.\n",
        "\n",
        "Правило обновления:\n",
        "$$\n",
        "w \\leftarrow w - \\eta \\frac{\\partial L}{\\partial w}, \\quad\n",
        "b \\leftarrow b - \\eta \\frac{\\partial L}{\\partial b}\n",
        "$$\n",
        "\n",
        "где $\\eta$ — скорость обучения (*learning rate*).\n",
        "\n",
        "---\n",
        "\n",
        "### Шаги алгоритма:\n",
        "1. Считаем предсказания $\\hat{y}$  \n",
        "2. Вычисляем ошибку $(y - \\hat{y})$  \n",
        "3. Находим градиенты по $w, b$  \n",
        "4. Обновляем параметры  \n",
        "5. Повторяем до сходимости\n"
      ],
      "metadata": {
        "id": "QOkmI1ed5ju4"
      }
    },
    {
      "cell_type": "markdown",
      "source": [
        "## Напоминание правил дифференцирования\n",
        "- Производная квадрата:  \n",
        "  $\\frac{d}{dz}(z^2) = 2z$  \n",
        "- Производная суммы:  \n",
        "  $\\frac{d}{dz}(f(z)+g(z)) = f'(z) + g'(z)$  \n",
        "- Производная сложной функции (правило цепочки):  \n",
        "  $\\frac{d}{dz} f(g(z)) = f'(g(z)) \\cdot g'(z)$  \n",
        "\n",
        "---\n",
        "\n",
        "## Модель и функция потерь\n",
        "Модель:\n",
        "$$\n",
        "\\hat{y}_i = x_i^T w + b\n",
        "$$\n",
        "\n",
        "Функция потерь (MSE):\n",
        "$$\n",
        "L(w, b) = \\frac{1}{n}\\sum_{i=1}^n (y_i - \\hat{y}_i)^2\n",
        "$$\n",
        "\n",
        "---\n",
        "\n",
        "## Производная по весу $w_j$\n",
        "Берём одно слагаемое:\n",
        "$$\n",
        "(y_i - (x_i^T w + b))^2\n",
        "$$\n",
        "\n",
        "По правилу цепочки:\n",
        "$$\n",
        "\\frac{\\partial}{\\partial w_j} (y_i - (x_i^T w + b))^2\n",
        "= 2 (y_i - \\hat{y}_i) \\cdot \\frac{\\partial}{\\partial w_j}(y_i - \\hat{y}_i)\n",
        "$$\n",
        "\n",
        "А:\n",
        "$$\n",
        "\\frac{\\partial}{\\partial w_j}(y_i - (x_i^T w + b)) = -x_{ij}\n",
        "$$\n",
        "\n",
        "Итого:\n",
        "$$\n",
        "\\frac{\\partial}{\\partial w_j} (y_i - \\hat{y}_i)^2 = -2 (y_i - \\hat{y}_i) \\cdot x_{ij}\n",
        "$$\n",
        "\n",
        "После суммирования по $i$ и деления на $n$:\n",
        "$$\n",
        "\\frac{\\partial L}{\\partial w_j} = -\\frac{2}{n} \\sum_{i=1}^n (y_i - \\hat{y}_i) x_{ij}\n",
        "$$\n",
        "\n",
        "В матричной записи:\n",
        "$$\n",
        "\\nabla_w L = -\\frac{2}{n} X^T (y - \\hat{y})\n",
        "$$\n",
        "\n",
        "---\n",
        "\n",
        "## Производная по смещению $b$\n",
        "По аналогии:\n",
        "$$\n",
        "\\frac{\\partial L}{\\partial b} = -\\frac{2}{n} \\sum_{i=1}^n (y_i - \\hat{y}_i)\n",
        "$$\n",
        "\n",
        "---\n",
        "\n",
        "## Градиентный спуск\n",
        "**Определение:**  \n",
        "Градиентный спуск — это итеративный метод минимизации функции потерь.  \n",
        "Мы двигаем параметры в направлении, противоположном градиенту.\n",
        "\n",
        "Правило обновления:\n",
        "$$\n",
        "w \\leftarrow w - \\eta \\frac{\\partial L}{\\partial w}, \\quad\n",
        "b \\leftarrow b - \\eta \\frac{\\partial L}{\\partial b}\n",
        "$$\n",
        "\n",
        "где $\\eta$ — скорость обучения (*learning rate*).\n",
        "\n",
        "---\n",
        "\n",
        "### Шаги алгоритма:\n",
        "1. Считаем предсказания $\\hat{y}$  \n",
        "2. Вычисляем ошибку $(y - \\hat{y})$  \n",
        "3. Находим градиенты по $w, b$  \n",
        "4. Обновляем параметры  \n",
        "5. Повторяем до сходимости\n"
      ],
      "metadata": {
        "id": "JCnBwwMI5nTU"
      }
    },
    {
      "cell_type": "markdown",
      "source": [
        "# Практика: Линейная регрессия с нуля\n",
        "\n",
        "Сегодня мы реализуем линейную регрессию шаг за шагом, чтобы понять:\n",
        "- как строится модель,\n",
        "- что такое функция потерь,\n",
        "- как работает градиентный спуск.\n",
        "\n",
        "Заполняйте пропуски в ячейках с кодом.\n"
      ],
      "metadata": {
        "id": "uhXbtpBc5sFU"
      }
    },
    {
      "cell_type": "markdown",
      "source": [
        "## Генерация данных\n",
        "\n",
        "Мы создадим искусственный набор данных, где целевая переменная $y$ зависит от признака $x$ **по линейному закону** с добавлением шума:\n",
        "\n",
        "$$\n",
        "y = 4x + 3 + \\varepsilon,\n",
        "$$\n",
        "\n",
        "где:\n",
        "- $4$ — истинный коэффициент наклона (вес $w$),\n",
        "- $3$ — истинное смещение (bias $b$),\n",
        "- $\\varepsilon$ — случайный шум (приближает реальность: данные всегда «грязные»).\n",
        "\n",
        "Наша задача: восстановить эту зависимость по точкам $(x, y)$.\n"
      ],
      "metadata": {
        "id": "dq_aqjIe6b5q"
      }
    },
    {
      "cell_type": "code",
      "source": [
        "# Сгенерируем данные\n",
        "rng = np.random.default_rng(42)\n",
        "X = rng.normal(size=(200, 1))   # один признак\n",
        "y = 4 * X[:, 0] + 3 + rng.normal(scale=0.5, size=200)"
      ],
      "metadata": {
        "id": "s3ZPO8TT5fCg"
      },
      "execution_count": null,
      "outputs": []
    },
    {
      "cell_type": "code",
      "source": [
        "# Делим на train/test\n",
        "X_tr, X_te, y_tr, y_te = train_test_split(X, y, test_size=0.2, random_state=42)\n",
        "\n",
        "# Визуализация train-части\n",
        "plt.scatter(X_tr, y_tr, alpha=0.5)\n",
        "plt.title(\"Сгенерированные данные (train)\")\n",
        "plt.xlabel(\"x\")\n",
        "plt.ylabel(\"y\")\n",
        "plt.show()"
      ],
      "metadata": {
        "colab": {
          "base_uri": "https://localhost:8080/",
          "height": 472
        },
        "id": "z2b7Baw16MxC",
        "outputId": "f9122431-651c-4a4c-f44d-e241fc44574d"
      },
      "execution_count": null,
      "outputs": [
        {
          "output_type": "display_data",
          "data": {
            "text/plain": [
              "<Figure size 640x480 with 1 Axes>"
            ],
            "image/png": "[encoded data removed]"
          },
          "metadata": {}
        }
      ]
    },
    {
      "cell_type": "markdown",
      "source": [
        "## Задание 1. Напишите функцию `predict`\n",
        "\n",
        "Формула:\n",
        "$$\n",
        "\\hat{y} = Xw + b\n",
        "$$\n"
      ],
      "metadata": {
        "id": "mQ5AOgQd6vFh"
      }
    },
    {
      "cell_type": "code",
      "source": [
        "def predict(X, w, b):\n",
        "    return X @ w + b;"
      ],
      "metadata": {
        "id": "sQXNPiST6txY"
      },
      "execution_count": null,
      "outputs": []
    },
    {
      "cell_type": "code",
      "source": [
        "# --- Тест ---\n",
        "X_test = np.array([[1.0], [2.0], [3.0]])\n",
        "w_test = np.array([2.0])\n",
        "b_test = 1.0\n",
        "\n",
        "y_pred = predict(X_test, w_test, b_test)\n",
        "print(\"y_pred =\", y_pred)\n",
        "\n",
        "assert np.allclose(y_pred, np.array([3.0, 5.0, 7.0])), \"❌ Ошибка в функции predict\"\n",
        "print(\"✅ predict работает правильно\")"
      ],
      "metadata": {
        "colab": {
          "base_uri": "https://localhost:8080/"
        },
        "id": "itE9KKOT8XDA",
        "outputId": "7ceb9460-4be5-422a-82ca-e9e07472392c"
      },
      "execution_count": null,
      "outputs": [
        {
          "output_type": "stream",
          "name": "stdout",
          "text": [
            "y_pred = [3. 5. 7.]\n",
            "✅ predict работает правильно\n"
          ]
        }
      ]
    },
    {
      "cell_type": "markdown",
      "source": [
        "## Задание 2. Реализуйте функцию ошибки (MSE)\n",
        "\n",
        "$$\n",
        "L = \\frac{1}{n} \\sum (y - \\hat{y})^2\n",
        "$$\n"
      ],
      "metadata": {
        "id": "QtP65Mkm61Lz"
      }
    },
    {
      "cell_type": "code",
      "source": [
        "def mse(y, y_pred):\n",
        "    return np.mean((np.array(y) - np.array(y_pred)) ** 2)"
      ],
      "metadata": {
        "id": "HDuDLIRu6yxz"
      },
      "execution_count": null,
      "outputs": []
    },
    {
      "cell_type": "code",
      "source": [
        "# --- Тест ---\n",
        "y_true = np.array([1.0, 2.0, 3.0])\n",
        "y_pred = np.array([1.0, 2.0, 4.0])  # ошибка в последнем значении = 1\n",
        "# квадраты ошибок: [0, 0, 1], среднее = 1/3\n",
        "expected = 1/3\n",
        "\n",
        "loss = mse(y_true, y_pred)\n",
        "print(\"loss =\", loss)\n",
        "\n",
        "assert np.isclose(loss, expected), \"❌ Ошибка в функции mse\"\n",
        "print(\"✅ mse работает правильно\")"
      ],
      "metadata": {
        "colab": {
          "base_uri": "https://localhost:8080/"
        },
        "id": "zsFIbSqv8rCz",
        "outputId": "03d539cc-3cb0-4987-b7ce-2fde07a3ee2b"
      },
      "execution_count": null,
      "outputs": [
        {
          "output_type": "stream",
          "name": "stdout",
          "text": [
            "loss = 0.3333333333333333\n",
            "✅ mse работает правильно\n"
          ]
        }
      ]
    },
    {
      "cell_type": "markdown",
      "source": [
        "## Задание 3. Реализуйте градиенты\n",
        "\n",
        "$$\n",
        "\\frac{\\partial L}{\\partial w} = -\\frac{2}{n} X^T (y - \\hat{y})\n",
        "$$\n",
        "\n",
        "$$\n",
        "\\frac{\\partial L}{\\partial b} = -\\frac{2}{n} \\sum (y - \\hat{y})\n",
        "$$\n"
      ],
      "metadata": {
        "id": "RV6byyv166Hl"
      }
    },
    {
      "cell_type": "code",
      "source": [
        "def gradients(X, y, w, b):\n",
        "    n = len(y)\n",
        "    y_pred = predict(X, w, b)\n",
        "    dw = (-2/n) * X.T @ (y - y_pred)\n",
        "    db = (-2/n) * np.sum(y - y_pred)\n",
        "    return dw, db\n"
      ],
      "metadata": {
        "id": "_1PQjHKL63jl"
      },
      "execution_count": null,
      "outputs": []
    },
    {
      "cell_type": "code",
      "source": [
        "# --- Тест ---\n",
        "X_test = np.array([[1.0], [2.0], [3.0]])\n",
        "y_test = np.array([2.0, 4.0, 6.0])   # идеальная зависимость y = 2x\n",
        "w_test = np.array([0.0])             # плохое приближение\n",
        "b_test = 0.0\n",
        "\n",
        "dw, db = gradients(X_test, y_test, w_test, b_test)\n",
        "print(\"dw =\", dw, \"db =\", db)\n",
        "\n",
        "# Проверим направление градиента:\n",
        "# так как сейчас веса занижены (0 вместо 2), dw должен быть отрицательным\n",
        "assert dw < 0, \"❌ Ошибка: знак градиента неправильный\"\n",
        "print(\"✅ gradients работает правильно (направление верное)\")"
      ],
      "metadata": {
        "colab": {
          "base_uri": "https://localhost:8080/"
        },
        "id": "kd9EdD948w_7",
        "outputId": "3b723aea-1ebb-47b7-cec6-ad67861610d5"
      },
      "execution_count": null,
      "outputs": [
        {
          "output_type": "stream",
          "name": "stdout",
          "text": [
            "dw = [-18.66666667] db = -8.0\n",
            "✅ gradients работает правильно (направление верное)\n"
          ]
        }
      ]
    },
    {
      "cell_type": "markdown",
      "source": [
        "## Задание 4. Реализуйте градиентный спуск\n"
      ],
      "metadata": {
        "id": "eXVo2Wyv7Ay5"
      }
    },
    {
      "cell_type": "code",
      "source": [
        "\n",
        "# Исправленная инициализация\n",
        "w = np.zeros(X_tr.shape[1])  # массив размерности (1,) вместо числа 0.0\n",
        "b = 0.0\n",
        "lr = 0.1\n",
        "epochs = 1000\n",
        "losses = []\n",
        "\n",
        "for step in range(epochs):\n",
        "    dw, db = gradients(X_tr, y_tr, w, b)\n",
        "    w -= lr * dw   # обновление весов\n",
        "    b -= lr * db   # обновление смещения\n",
        "    if step % 50 == 0:\n",
        "        y_pred = predict(X_tr, w, b)\n",
        "        losses.append(mse(y_tr, y_pred))\n",
        "\n",
        "print(f\"Обученные параметры: w = {w[0]:.3f}, b = {b:.3f}\")\n",
        "\n",
        "plt.plot(np.arange(len(losses))*50, losses)\n",
        "plt.title(\"Сходимость ошибки\")\n",
        "plt.xlabel(\"итерации\")\n",
        "plt.ylabel(\"MSE\")\n",
        "plt.show()\n"
      ],
      "metadata": {
        "id": "UIxeKOzF68RH",
        "colab": {
          "base_uri": "https://localhost:8080/",
          "height": 489
        },
        "outputId": "8a72010b-4d3f-4e5f-a5e9-2447f849d02d"
      },
      "execution_count": null,
      "outputs": [
        {
          "output_type": "stream",
          "name": "stdout",
          "text": [
            "Обученные параметры: w = 3.948, b = 3.029\n"
          ]
        },
        {
          "output_type": "display_data",
          "data": {
            "text/plain": [
              "<Figure size 640x480 with 1 Axes>"
            ],
            "image/png": "[encoded data removed]"
          },
          "metadata": {}
        }
      ]
    },
    {
      "cell_type": "markdown",
      "source": [
        "## Задание 5. Сравните со встроенной моделью\n"
      ],
      "metadata": {
        "id": "o1N2eCfA7LnW"
      }
    },
    {
      "cell_type": "code",
      "source": [
        "from sklearn.metrics import mean_squared_error\n",
        "\n",
        "lin = LinearRegression().fit(X_tr, y_tr)\n",
        "y_pred_skl = lin.predict(X_te)\n",
        "print(\"Sklearn MSE:\", mean_squared_error(y_te, y_pred_skl))\n",
        "\n",
        "y_pred_our = predict(X_te, w, b)\n",
        "print(\"Our MSE    :\", mse(y_te, y_pred_our))"
      ],
      "metadata": {
        "id": "mhr62RO87C21",
        "colab": {
          "base_uri": "https://localhost:8080/"
        },
        "outputId": "2d1676be-c5fc-4d93-9c2a-63933899b086"
      },
      "execution_count": null,
      "outputs": [
        {
          "output_type": "stream",
          "name": "stdout",
          "text": [
            "Sklearn MSE: 0.2485119936374281\n",
            "Our MSE    : 0.2485119936374279\n"
          ]
        }
      ]
    },
    {
      "cell_type": "markdown",
      "source": [
        "# Логистическая регрессия: откуда берутся модель и лог-лосс\n",
        "\n",
        "## 1) Модель вероятности\n",
        "В бинарной классификации целевая переменная $y \\in \\{0,1\\}$. Хотим предсказывать вероятность класса $1$:\n",
        "$$\n",
        "P(y=1 \\mid x)\n",
        "$$\n",
        "Линейная комбинация признаков $z = w^T x + b$ принимает значения на всём $\\mathbb{R}$, а вероятность — только в $[0,1]$. Поэтому используем **сигмоиду**:\n",
        "$$\n",
        "\\sigma(z) = \\frac{1}{1 + e^{-z}}\n",
        "$$\n",
        "и задаём модель:\n",
        "$$\n",
        "P(y=1 \\mid x) = \\sigma(w^T x + b), \\quad P(y=0 \\mid x) = 1 - \\sigma(w^T x + b).\n",
        "$$\n",
        "\n",
        "## 2) Почему такой лосс (лог-лосс)?\n",
        "Предполагаем, что $y_i \\sim \\text{Bernoulli}(\\hat{p}_i)$, где $\\hat{p}_i = \\sigma(w^T x_i + b)$.\n",
        "Правдоподобие выборки (при независимости объектов):\n",
        "$$\n",
        "\\mathcal{L}(w,b) = \\prod_{i=1}^n \\hat{p}_i^{\\,y_i}\\,(1-\\hat{p}_i)^{\\,1-y_i}.\n",
        "$$\n",
        "Берём логарифм и меняем знак (минимизируем **отрицательное лог-правдоподобие**):\n",
        "$$\n",
        "\\text{LogLoss}(w,b) = -\\frac{1}{n}\\sum_{i=1}^n \\Big[y_i \\log \\hat{p}_i + (1-y_i)\\log(1-\\hat{p}_i)\\Big].\n",
        "$$\n",
        "\n",
        "## 3) Как обучаем?\n",
        "Используем **градиентный спуск**: двигаем $(w,b)$ противоположно градиенту лог-лосса, пока он уменьшается. Для устойчивости обычно масштабируем признаки (стандартизация).\n"
      ],
      "metadata": {
        "id": "tmHYmtQL_V8G"
      }
    },
    {
      "cell_type": "code",
      "source": [
        "import numpy as np\n",
        "from sklearn.model_selection import train_test_split\n",
        "from sklearn.datasets import make_classification\n",
        "\n",
        "# Синтетические данные (бинарная классификация)\n",
        "X, y = make_classification(n_samples=600, n_features=4, n_informative=3, n_redundant=1,\n",
        "                           random_state=42, class_sep=1.2)\n",
        "\n",
        "# train / test\n",
        "X_tr, X_te, y_tr, y_te = train_test_split(X, y, test_size=0.25, random_state=42, stratify=y)\n",
        "\n",
        "# Стандартизация по train\n",
        "X_mean, X_std = X_tr.mean(axis=0), X_tr.std(axis=0) + 1e-8\n",
        "X_trs = (X_tr - X_mean) / X_std\n",
        "X_tes = (X_te - X_mean) / X_std"
      ],
      "metadata": {
        "id": "BP9l7zSs_Way"
      },
      "execution_count": null,
      "outputs": []
    },
    {
      "cell_type": "code",
      "source": [
        "def sigmoid(z):\n",
        "    # Подсказка: используйте np.exp и защиту от переполнения (np.clip или np.maximum/-minimum по желанию)\n",
        "    z = np.clip(z, -500, 500)  # предотвращаем переполнение exp\n",
        "    return 1 / (1 + np.exp(-z))\n",
        "\n",
        "def predict_proba(X, w, b):\n",
        "    # вернуть вероятность класса 1: σ(X @ w + b)\n",
        "    z = X @ w + b\n",
        "    return sigmoid(z)\n",
        "\n",
        "def predict(X, w, b, threshold=0.5):\n",
        "    # бинарные предсказания по порогу\n",
        "    probabilities = predict_proba(X, w, b)\n",
        "    return (probabilities >= threshold).astype(int)\n"
      ],
      "metadata": {
        "id": "EjmcmE70_dlo"
      },
      "execution_count": null,
      "outputs": []
    },
    {
      "cell_type": "code",
      "source": [
        "def logloss(X, y, w, b, l2=0.0):\n",
        "    \"\"\"\n",
        "    LogLoss = - 1/n * sum(y*log(p) + (1-y)*log(1-p)) + l2 * ||w||^2\n",
        "    \"\"\"\n",
        "    p = predict_proba(X, w, b)                          # вероятности\n",
        "    p = np.clip(p, 1e-9, 1 - 1e-9)  # числовая стабильность\n",
        "    n = len(y)\n",
        "    base = -np.mean(y * np.log(p) + (1 - y) * np.log(1 - p))                      # основной лог-лосс без регуляризации\n",
        "    reg = l2 * np.sum(w**2)                         # l2 * ||w||^2\n",
        "    return base + reg\n",
        "\n",
        "def gradients(X, y, w, b, l2=0.0):\n",
        "    \"\"\"\n",
        "    dw = X^T (p - y) / n + 2*l2*w\n",
        "    db = mean(p - y)\n",
        "    \"\"\"\n",
        "    n = len(y)\n",
        "    p = predict_proba(X, w, b)\n",
        "    dw = (X.T @ (p - y)) / n + 2 * l2 * w\n",
        "    db = np.mean(p - y)\n",
        "    return dw, db\n"
      ],
      "metadata": {
        "id": "2mm0Lrxo_k-q"
      },
      "execution_count": null,
      "outputs": []
    },
    {
      "cell_type": "code",
      "source": [
        "# Инициализация\n",
        "w = np.zeros(X_trs.shape[1])\n",
        "b = 0.0\n",
        "lr = 0.1\n",
        "epochs = 1000\n",
        "l2 = 0.0\n",
        "\n",
        "hist = []\n",
        "for step in range(epochs):\n",
        "    dw, db = gradients(X_trs, y_tr, w, b, l2=l2)\n",
        "    w = w - lr * dw   # обновление весов\n",
        "    b = b - lr * db   # обновление смещение\n",
        "    if step % 50 == 0:\n",
        "        hist.append(logloss(X_trs, y_tr, w, b, l2=l2))\n",
        "\n",
        "print(\"Train LogLoss (final):\", logloss(X_trs, y_tr, w, b, l2=l2))\n",
        "print(f\"Final parameters: w = {w}, b = {b:.4f}\")\n",
        "\n",
        "# Визуализация сходимости\n",
        "plt.figure(figsize=(10, 6))\n",
        "plt.plot(np.arange(len(hist)) * 50, hist, 'b-', linewidth=2)\n",
        "plt.title(\"Сходимость LogLoss (логистическая регрессия)\")\n",
        "plt.xlabel(\"Итерации\")\n",
        "plt.ylabel(\"LogLoss\")\n",
        "plt.grid(True, alpha=0.3)\n",
        "plt.show()\n"
      ],
      "metadata": {
        "id": "LbMIcdaR_ltc",
        "colab": {
          "base_uri": "https://localhost:8080/",
          "height": 599
        },
        "outputId": "d4904b82-6b41-4547-9e19-47f5f7aee54c"
      },
      "execution_count": null,
      "outputs": [
        {
          "output_type": "stream",
          "name": "stdout",
          "text": [
            "Train LogLoss (final): 0.2372697575601247\n",
            "Final parameters: w = [ 0.6405963  -0.07224549  0.82205625  3.00867763], b = 0.1435\n"
          ]
        },
        {
          "output_type": "display_data",
          "data": {
            "text/plain": [
              "<Figure size 1000x600 with 1 Axes>"
            ],
            "image/png": "[encoded data removed]"
          },
          "metadata": {}
        }
      ]
    },
    {
      "cell_type": "code",
      "source": [
        "import numpy as np\n",
        "\n",
        "# ---- 1) тест сигмоиды ----\n",
        "z = np.array([-1000, -10, 0, 10, 1000], dtype=float)\n",
        "s = sigmoid(z)\n",
        "assert np.all(s >= 0) and np.all(s <= 1), \"sigmoid должна давать значения в [0,1]\"\n",
        "assert np.isclose(s[2], 0.5, atol=1e-9), \"sigmoid(0) должна быть 0.5\"\n",
        "\n",
        "# ---- 2) predict_proba / predict формы и диапазоны ----\n",
        "X_sm = np.array([[0.0, 1.0], [1.0, -1.0], [2.0, 3.0]])\n",
        "w_sm = np.array([0.5, -0.25])\n",
        "b_sm = 0.1\n",
        "p_sm = predict_proba(X_sm, w_sm, b_sm)\n",
        "assert p_sm.shape == (3,), \"predict_proba должен возвращать вектор (n,)\"\n",
        "assert np.all((p_sm >= 0) & (p_sm <= 1)), \"вероятности должны быть в [0,1]\"\n",
        "y_hat = predict(X_sm, w_sm, b_sm, threshold=0.5)\n",
        "assert set(np.unique(y_hat)).issubset({0,1}), \"predict должен возвращать 0/1\"\n",
        "\n",
        "# ---- 3) лог-лосс на простом кейсе ----\n",
        "# Если w=0, b=0 => p=0.5 => logloss ≈ 0.693...\n",
        "X_t = np.zeros((4, 2))\n",
        "y_t = np.array([0, 1, 0, 1])\n",
        "w0 = np.zeros(2); b0 = 0.0\n",
        "loss0 = logloss(X_t, y_t, w0, b0, l2=0.0)\n",
        "assert np.isclose(loss0, 0.693147, atol=1e-3), \"logloss при p=0.5 должен быть ~0.693\"\n",
        "\n",
        "# ---- 4) проверка градиента знаком на простом кейсе ----\n",
        "# Делаем данные, где истинный ответ ближе к p=1; b=0 даёт p=0.5, значит нужно увеличивать b -> db < 0 (т.к. идём w -= lr*grad)\n",
        "X_g = np.zeros((5, 2))\n",
        "y_g = np.ones(5)   # все единицы\n",
        "w_g = np.zeros(2); b_g = 0.0\n",
        "dw_g, db_g = gradients(X_g, y_g, w_g, b_g, l2=0.0)\n",
        "assert db_g < 0, \"Градиент по b должен быть отрицательным, чтобы b росло при шаге обновления\"\n",
        "\n",
        "# ---- 5) численная проверка градиента (очень маленький пример) ----\n",
        "rng = np.random.default_rng(0)\n",
        "X_chk = rng.normal(size=(6, 3))\n",
        "y_chk = rng.integers(0, 2, size=6).astype(float)\n",
        "w_chk = rng.normal(size=3); b_chk = 0.1\n",
        "\n",
        "def num_grad_w(X, y, w, b, eps=1e-5):\n",
        "    g = np.zeros_like(w)\n",
        "    base = logloss(X, y, w, b)\n",
        "    for j in range(len(w)):\n",
        "        w2 = w.copy(); w2[j] += eps\n",
        "        g[j] = (logloss(X, y, w2, b) - base) / eps\n",
        "    return g\n",
        "\n",
        "def num_grad_b(X, y, w, b, eps=1e-5):\n",
        "    base = logloss(X, y, w, b)\n",
        "    return (logloss(X, y, w, b+eps) - base) / eps\n",
        "\n",
        "dw_a, db_a = gradients(X_chk, y_chk, w_chk, b_chk, l2=0.0)\n",
        "dw_n = num_grad_w(X_chk, y_chk, w_chk, b_chk)\n",
        "db_n = num_grad_b(X_chk, y_chk, w_chk, b_chk)\n",
        "\n",
        "assert np.allclose(dw_a, dw_n, atol=1e-4), \"dw не совпадает с численным градиентом\"\n",
        "assert np.isclose(db_a, db_n, atol=1e-4), \"db не совпадает с численным градиентом\"\n",
        "\n",
        "# ---- 6) обучение уменьшает лог-лосс ----\n",
        "# Мини-тренировка на копии данных\n",
        "X_m = X_trs[:128]; y_m = y_tr[:128]\n",
        "w_m = np.zeros(X_m.shape[1]); b_m = 0.0\n",
        "losses = []\n",
        "for _ in range(200):\n",
        "    dw, db = gradients(X_m, y_m, w_m, b_m, l2=0.0)\n",
        "    w_m -= 0.1 * dw\n",
        "    b_m -= 0.1 * db\n",
        "    losses.append(logloss(X_m, y_m, w_m, b_m))\n",
        "assert losses[-1] < losses[0], \"лог-лосс должен уменьшаться при обучении\"\n",
        "\n",
        "print(\"✅ Все тесты пройдены!\")\n"
      ],
      "metadata": {
        "colab": {
          "base_uri": "https://localhost:8080/"
        },
        "id": "76ZuiNVL_n4N",
        "outputId": "78319af9-fdbf-4883-be38-a84db1cc9cc8"
      },
      "execution_count": null,
      "outputs": [
        {
          "output_type": "stream",
          "name": "stdout",
          "text": [
            "✅ Все тесты пройдены!\n"
          ]
        }
      ]
    },
    {
      "cell_type": "code",
      "source": [
        "from sklearn.metrics import accuracy_score, roc_auc_score\n",
        "\n",
        "proba_te = predict_proba(X_tes, w, b)\n",
        "pred_te  = predict(X_tes, w, b, threshold=0.5)\n",
        "\n",
        "print(\"Test Accuracy:\", accuracy_score(y_te, pred_te))\n",
        "print(\"Test ROC-AUC :\", roc_auc_score(y_te, proba_te))\n"
      ],
      "metadata": {
        "id": "gjD0Qqko_-Qd",
        "colab": {
          "base_uri": "https://localhost:8080/"
        },
        "outputId": "8fe0d827-186b-4582-9579-9d5d992d6df5"
      },
      "execution_count": null,
      "outputs": [
        {
          "output_type": "stream",
          "name": "stdout",
          "text": [
            "Test Accuracy: 0.8733333333333333\n",
            "Test ROC-AUC : 0.963904694167852\n"
          ]
        }
      ]
    }
  ]
}